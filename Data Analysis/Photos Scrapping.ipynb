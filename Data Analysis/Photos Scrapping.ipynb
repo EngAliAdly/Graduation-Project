{
 "cells": [
  {
   "cell_type": "code",
   "execution_count": 1,
   "id": "c1e0ff3d",
   "metadata": {},
   "outputs": [],
   "source": [
    "import pandas as pd\n",
    "import requests"
   ]
  },
  {
   "cell_type": "code",
   "execution_count": 2,
   "id": "2f6178a1",
   "metadata": {},
   "outputs": [],
   "source": [
    "df=pd.read_csv(\"Products Preview1.csv\")"
   ]
  },
  {
   "cell_type": "code",
   "execution_count": 3,
   "id": "ef097a02",
   "metadata": {},
   "outputs": [
    {
     "data": {
      "text/html": [
       "<div>\n",
       "<style scoped>\n",
       "    .dataframe tbody tr th:only-of-type {\n",
       "        vertical-align: middle;\n",
       "    }\n",
       "\n",
       "    .dataframe tbody tr th {\n",
       "        vertical-align: top;\n",
       "    }\n",
       "\n",
       "    .dataframe thead th {\n",
       "        text-align: right;\n",
       "    }\n",
       "</style>\n",
       "<table border=\"1\" class=\"dataframe\">\n",
       "  <thead>\n",
       "    <tr style=\"text-align: right;\">\n",
       "      <th></th>\n",
       "      <th>id</th>\n",
       "      <th>name</th>\n",
       "      <th>category_id</th>\n",
       "      <th>brand_id</th>\n",
       "      <th>photos</th>\n",
       "      <th>thumbnail_img</th>\n",
       "      <th>video_provider</th>\n",
       "      <th>video_link</th>\n",
       "      <th>tags</th>\n",
       "      <th>description</th>\n",
       "      <th>unit_price</th>\n",
       "      <th>colors</th>\n",
       "    </tr>\n",
       "  </thead>\n",
       "  <tbody>\n",
       "    <tr>\n",
       "      <th>0</th>\n",
       "      <td>30351</td>\n",
       "      <td>Myntra Men Dog Inside Pink T-shirt</td>\n",
       "      <td>Men Apparel Topwear</td>\n",
       "      <td>Myntra</td>\n",
       "      <td>['http://assets.myntassets.com/h_480,q_95,w_36...</td>\n",
       "      <td>http://assets.myntassets.com/h_200,q_95,w_150/...</td>\n",
       "      <td>YouTube</td>\n",
       "      <td>NaN</td>\n",
       "      <td>['composit', 'pink', 'tshirt', 'cotton', 'neck...</td>\n",
       "      <td>Composition Pink T-shirt made of 100% cotton, ...</td>\n",
       "      <td>399.0</td>\n",
       "      <td>['Pink', 'Teal']</td>\n",
       "    </tr>\n",
       "    <tr>\n",
       "      <th>1</th>\n",
       "      <td>26471</td>\n",
       "      <td>Puma Men Classic Graphic  Navy Blue T-shirt</td>\n",
       "      <td>Men Apparel Topwear</td>\n",
       "      <td>Puma</td>\n",
       "      <td>['http://assets.myntassets.com/h_480,q_95,w_36...</td>\n",
       "      <td>http://assets.myntassets.com/h_200,q_95,w_150/...</td>\n",
       "      <td>YouTube</td>\n",
       "      <td>NaN</td>\n",
       "      <td>['composit', 'navi', 'blue', 'tshirt', 'cotton...</td>\n",
       "      <td>Composition Navy blue T-shirt made of 100% cot...</td>\n",
       "      <td>899.0</td>\n",
       "      <td>['Navy Blue', 'White']</td>\n",
       "    </tr>\n",
       "    <tr>\n",
       "      <th>2</th>\n",
       "      <td>31036</td>\n",
       "      <td>Arrow Sport Men Striped Blue Polo T-shirt</td>\n",
       "      <td>Men Apparel Topwear</td>\n",
       "      <td>Arrow Sport</td>\n",
       "      <td>['http://assets.myntassets.com/h_480,q_95,w_36...</td>\n",
       "      <td>http://assets.myntassets.com/h_200,q_95,w_150/...</td>\n",
       "      <td>YouTube</td>\n",
       "      <td>NaN</td>\n",
       "      <td>['composit', 'blue', 'polo', 'tshirt', 'green'...</td>\n",
       "      <td>Composition Blue polo T-shirt with green and w...</td>\n",
       "      <td>1099.0</td>\n",
       "      <td>['Blue', 'White']</td>\n",
       "    </tr>\n",
       "    <tr>\n",
       "      <th>3</th>\n",
       "      <td>8210</td>\n",
       "      <td>Red Tape Men's Casual Brown Shoe</td>\n",
       "      <td>Men Footwear Shoes</td>\n",
       "      <td>Red Tape</td>\n",
       "      <td>['http://assets.myntassets.com/h_480,q_95,w_36...</td>\n",
       "      <td>http://assets.myntassets.com/h_200,q_95,w_150/...</td>\n",
       "      <td>YouTube</td>\n",
       "      <td>NaN</td>\n",
       "      <td>['casual', 'dress', 'level', 'leather', 'shoe'...</td>\n",
       "      <td>Take casual dressing to the next level with th...</td>\n",
       "      <td>2195.0</td>\n",
       "      <td>['Brown', 'Grey']</td>\n",
       "    </tr>\n",
       "    <tr>\n",
       "      <th>4</th>\n",
       "      <td>5478</td>\n",
       "      <td>Nike Men's T-Lite Leather White Shoe</td>\n",
       "      <td>Men Footwear Shoes</td>\n",
       "      <td>Nike</td>\n",
       "      <td>['http://assets.myntassets.com/h_480,q_95,w_36...</td>\n",
       "      <td>http://assets.myntassets.com/h_200,q_95,w_150/...</td>\n",
       "      <td>YouTube</td>\n",
       "      <td>NaN</td>\n",
       "      <td>['nike', 'tlite', 'shoe', 'gr', 'eat', 'combin...</td>\n",
       "      <td>The nike T-Lite 9 shoes is a gr eat combinatio...</td>\n",
       "      <td>3795.0</td>\n",
       "      <td>['White', 'Black']</td>\n",
       "    </tr>\n",
       "    <tr>\n",
       "      <th>...</th>\n",
       "      <td>...</td>\n",
       "      <td>...</td>\n",
       "      <td>...</td>\n",
       "      <td>...</td>\n",
       "      <td>...</td>\n",
       "      <td>...</td>\n",
       "      <td>...</td>\n",
       "      <td>...</td>\n",
       "      <td>...</td>\n",
       "      <td>...</td>\n",
       "      <td>...</td>\n",
       "      <td>...</td>\n",
       "    </tr>\n",
       "    <tr>\n",
       "      <th>239</th>\n",
       "      <td>55352</td>\n",
       "      <td>Revlon Extra Fast Nail Polish Remover</td>\n",
       "      <td>Women Personal Care Bath and Body</td>\n",
       "      <td>Revlon</td>\n",
       "      <td>http://assets.myntassets.com/h_480,q_95,w_360/...</td>\n",
       "      <td>http://assets.myntassets.com/h_200,q_95,w_150/...</td>\n",
       "      <td>YouTube</td>\n",
       "      <td>NaN</td>\n",
       "      <td>['remov', 'nail', 'enamel', 'quicklyblend', 't...</td>\n",
       "      <td>Removes nail enamel quicklyBlend of triple dis...</td>\n",
       "      <td>150.0</td>\n",
       "      <td>White</td>\n",
       "    </tr>\n",
       "    <tr>\n",
       "      <th>240</th>\n",
       "      <td>55323</td>\n",
       "      <td>Revlon Colour 'N Care Natural Black 1N Colour</td>\n",
       "      <td>Women Personal Care Hair</td>\n",
       "      <td>Revlon</td>\n",
       "      <td>http://assets.myntassets.com/h_480,q_95,w_360/...</td>\n",
       "      <td>http://assets.myntassets.com/h_200,q_95,w_150/...</td>\n",
       "      <td>YouTube</td>\n",
       "      <td>NaN</td>\n",
       "      <td>['hair', 'colour', 'cream', 'cream', 'develop'...</td>\n",
       "      <td>hair colour cream, cream developer, one pair o...</td>\n",
       "      <td>200.0</td>\n",
       "      <td>Black</td>\n",
       "    </tr>\n",
       "    <tr>\n",
       "      <th>241</th>\n",
       "      <td>55324</td>\n",
       "      <td>Revlon Color 'N Care Medium Brown 5N Hair Colour</td>\n",
       "      <td>Women Personal Care Hair</td>\n",
       "      <td>Revlon</td>\n",
       "      <td>http://assets.myntassets.com/h_480,q_95,w_360/...</td>\n",
       "      <td>http://assets.myntassets.com/h_200,q_95,w_150/...</td>\n",
       "      <td>YouTube</td>\n",
       "      <td>NaN</td>\n",
       "      <td>['isenrich', 'coconut', 'oil', 'color', 'care'...</td>\n",
       "      <td>What It IsEnriched with coconut oil Color 'N C...</td>\n",
       "      <td>200.0</td>\n",
       "      <td>Brown</td>\n",
       "    </tr>\n",
       "    <tr>\n",
       "      <th>242</th>\n",
       "      <td>55325</td>\n",
       "      <td>Revlon Colorsilk Luminista Golden Brown Hair C...</td>\n",
       "      <td>Women Personal Care Hair</td>\n",
       "      <td>Revlon</td>\n",
       "      <td>http://assets.myntassets.com/h_480,q_95,w_360/...</td>\n",
       "      <td>http://assets.myntassets.com/h_200,q_95,w_150/...</td>\n",
       "      <td>YouTube</td>\n",
       "      <td>NaN</td>\n",
       "      <td>['vibrant', 'colour', 'dark', 'hair', 'high', ...</td>\n",
       "      <td>Vibrant colour for dark hair High shine mango ...</td>\n",
       "      <td>400.0</td>\n",
       "      <td>Brown</td>\n",
       "    </tr>\n",
       "    <tr>\n",
       "      <th>243</th>\n",
       "      <td>56365</td>\n",
       "      <td>Baldessarini Men Strictly Private 90 ml After ...</td>\n",
       "      <td>Men Personal Care Skin Care</td>\n",
       "      <td>Baldessarini</td>\n",
       "      <td>http://assets.myntassets.com/h_480,q_95,w_360/...</td>\n",
       "      <td>http://assets.myntassets.com/h_200,q_95,w_150/...</td>\n",
       "      <td>YouTube</td>\n",
       "      <td>NaN</td>\n",
       "      <td>['strictli', 'privat', 'compos', 'basil', 'ber...</td>\n",
       "      <td>Strictly Private is composed of basil and berg...</td>\n",
       "      <td>2900.0</td>\n",
       "      <td>Gold</td>\n",
       "    </tr>\n",
       "  </tbody>\n",
       "</table>\n",
       "<p>244 rows × 12 columns</p>\n",
       "</div>"
      ],
      "text/plain": [
       "        id                                               name  \\\n",
       "0    30351                 Myntra Men Dog Inside Pink T-shirt   \n",
       "1    26471        Puma Men Classic Graphic  Navy Blue T-shirt   \n",
       "2    31036          Arrow Sport Men Striped Blue Polo T-shirt   \n",
       "3     8210                   Red Tape Men's Casual Brown Shoe   \n",
       "4     5478               Nike Men's T-Lite Leather White Shoe   \n",
       "..     ...                                                ...   \n",
       "239  55352              Revlon Extra Fast Nail Polish Remover   \n",
       "240  55323      Revlon Colour 'N Care Natural Black 1N Colour   \n",
       "241  55324   Revlon Color 'N Care Medium Brown 5N Hair Colour   \n",
       "242  55325  Revlon Colorsilk Luminista Golden Brown Hair C...   \n",
       "243  56365  Baldessarini Men Strictly Private 90 ml After ...   \n",
       "\n",
       "                           category_id      brand_id  \\\n",
       "0                  Men Apparel Topwear        Myntra   \n",
       "1                  Men Apparel Topwear          Puma   \n",
       "2                  Men Apparel Topwear   Arrow Sport   \n",
       "3                   Men Footwear Shoes      Red Tape   \n",
       "4                   Men Footwear Shoes          Nike   \n",
       "..                                 ...           ...   \n",
       "239  Women Personal Care Bath and Body        Revlon   \n",
       "240           Women Personal Care Hair        Revlon   \n",
       "241           Women Personal Care Hair        Revlon   \n",
       "242           Women Personal Care Hair        Revlon   \n",
       "243        Men Personal Care Skin Care  Baldessarini   \n",
       "\n",
       "                                                photos  \\\n",
       "0    ['http://assets.myntassets.com/h_480,q_95,w_36...   \n",
       "1    ['http://assets.myntassets.com/h_480,q_95,w_36...   \n",
       "2    ['http://assets.myntassets.com/h_480,q_95,w_36...   \n",
       "3    ['http://assets.myntassets.com/h_480,q_95,w_36...   \n",
       "4    ['http://assets.myntassets.com/h_480,q_95,w_36...   \n",
       "..                                                 ...   \n",
       "239  http://assets.myntassets.com/h_480,q_95,w_360/...   \n",
       "240  http://assets.myntassets.com/h_480,q_95,w_360/...   \n",
       "241  http://assets.myntassets.com/h_480,q_95,w_360/...   \n",
       "242  http://assets.myntassets.com/h_480,q_95,w_360/...   \n",
       "243  http://assets.myntassets.com/h_480,q_95,w_360/...   \n",
       "\n",
       "                                         thumbnail_img video_provider  \\\n",
       "0    http://assets.myntassets.com/h_200,q_95,w_150/...        YouTube   \n",
       "1    http://assets.myntassets.com/h_200,q_95,w_150/...        YouTube   \n",
       "2    http://assets.myntassets.com/h_200,q_95,w_150/...        YouTube   \n",
       "3    http://assets.myntassets.com/h_200,q_95,w_150/...        YouTube   \n",
       "4    http://assets.myntassets.com/h_200,q_95,w_150/...        YouTube   \n",
       "..                                                 ...            ...   \n",
       "239  http://assets.myntassets.com/h_200,q_95,w_150/...        YouTube   \n",
       "240  http://assets.myntassets.com/h_200,q_95,w_150/...        YouTube   \n",
       "241  http://assets.myntassets.com/h_200,q_95,w_150/...        YouTube   \n",
       "242  http://assets.myntassets.com/h_200,q_95,w_150/...        YouTube   \n",
       "243  http://assets.myntassets.com/h_200,q_95,w_150/...        YouTube   \n",
       "\n",
       "     video_link                                               tags  \\\n",
       "0           NaN  ['composit', 'pink', 'tshirt', 'cotton', 'neck...   \n",
       "1           NaN  ['composit', 'navi', 'blue', 'tshirt', 'cotton...   \n",
       "2           NaN  ['composit', 'blue', 'polo', 'tshirt', 'green'...   \n",
       "3           NaN  ['casual', 'dress', 'level', 'leather', 'shoe'...   \n",
       "4           NaN  ['nike', 'tlite', 'shoe', 'gr', 'eat', 'combin...   \n",
       "..          ...                                                ...   \n",
       "239         NaN  ['remov', 'nail', 'enamel', 'quicklyblend', 't...   \n",
       "240         NaN  ['hair', 'colour', 'cream', 'cream', 'develop'...   \n",
       "241         NaN  ['isenrich', 'coconut', 'oil', 'color', 'care'...   \n",
       "242         NaN  ['vibrant', 'colour', 'dark', 'hair', 'high', ...   \n",
       "243         NaN  ['strictli', 'privat', 'compos', 'basil', 'ber...   \n",
       "\n",
       "                                           description  unit_price  \\\n",
       "0    Composition Pink T-shirt made of 100% cotton, ...       399.0   \n",
       "1    Composition Navy blue T-shirt made of 100% cot...       899.0   \n",
       "2    Composition Blue polo T-shirt with green and w...      1099.0   \n",
       "3    Take casual dressing to the next level with th...      2195.0   \n",
       "4    The nike T-Lite 9 shoes is a gr eat combinatio...      3795.0   \n",
       "..                                                 ...         ...   \n",
       "239  Removes nail enamel quicklyBlend of triple dis...       150.0   \n",
       "240  hair colour cream, cream developer, one pair o...       200.0   \n",
       "241  What It IsEnriched with coconut oil Color 'N C...       200.0   \n",
       "242  Vibrant colour for dark hair High shine mango ...       400.0   \n",
       "243  Strictly Private is composed of basil and berg...      2900.0   \n",
       "\n",
       "                     colors  \n",
       "0          ['Pink', 'Teal']  \n",
       "1    ['Navy Blue', 'White']  \n",
       "2         ['Blue', 'White']  \n",
       "3         ['Brown', 'Grey']  \n",
       "4        ['White', 'Black']  \n",
       "..                      ...  \n",
       "239                   White  \n",
       "240                   Black  \n",
       "241                   Brown  \n",
       "242                   Brown  \n",
       "243                    Gold  \n",
       "\n",
       "[244 rows x 12 columns]"
      ]
     },
     "execution_count": 3,
     "metadata": {},
     "output_type": "execute_result"
    }
   ],
   "source": [
    "df"
   ]
  },
  {
   "cell_type": "code",
   "execution_count": 4,
   "id": "861c83d2",
   "metadata": {},
   "outputs": [],
   "source": [
    "import ast"
   ]
  },
  {
   "cell_type": "code",
   "execution_count": 5,
   "id": "03044876",
   "metadata": {},
   "outputs": [
    {
     "data": {
      "text/plain": [
       "['Pink', 'Teal']"
      ]
     },
     "execution_count": 5,
     "metadata": {},
     "output_type": "execute_result"
    }
   ],
   "source": [
    "ast.literal_eval(df.colors[0])"
   ]
  },
  {
   "cell_type": "code",
   "execution_count": 6,
   "id": "28c986b5",
   "metadata": {},
   "outputs": [
    {
     "data": {
      "text/plain": [
       "list"
      ]
     },
     "execution_count": 6,
     "metadata": {},
     "output_type": "execute_result"
    }
   ],
   "source": [
    "type(ast.literal_eval(df.colors[0]))"
   ]
  },
  {
   "cell_type": "code",
   "execution_count": 7,
   "id": "01af0946",
   "metadata": {},
   "outputs": [],
   "source": [
    "Product_photos=ast.literal_eval(df.photos[0])"
   ]
  },
  {
   "cell_type": "code",
   "execution_count": 8,
   "id": "378b020c",
   "metadata": {},
   "outputs": [],
   "source": [
    "Product_colors=ast.literal_eval(df.colors[0])"
   ]
  },
  {
   "cell_type": "code",
   "execution_count": 9,
   "id": "3e2f621a",
   "metadata": {},
   "outputs": [
    {
     "data": {
      "text/plain": [
       "['http://assets.myntassets.com/h_480,q_95,w_360/v1/images/style/properties/4292d230771b6304415a91a493e8017a_images.jpg',\n",
       " 'http://assets.myntassets.com/v1/images/style/properties/8d4e09a0a4f58b370e7f87cea883f347_images.jpg']"
      ]
     },
     "execution_count": 9,
     "metadata": {},
     "output_type": "execute_result"
    }
   ],
   "source": [
    "Product_photos"
   ]
  },
  {
   "cell_type": "code",
   "execution_count": 10,
   "id": "66d11d20",
   "metadata": {},
   "outputs": [],
   "source": [
    "response = requests.get(Product_photos[0])\n",
    "\n",
    "file = open(str(df.id[0])+\" \"+Product_colors[0]+\".png\", \"wb\")\n",
    "file.write(response.content)\n",
    "file.close()"
   ]
  },
  {
   "cell_type": "code",
   "execution_count": 11,
   "id": "9402684a",
   "metadata": {},
   "outputs": [
    {
     "data": {
      "text/plain": [
       "'30351'"
      ]
     },
     "execution_count": 11,
     "metadata": {},
     "output_type": "execute_result"
    }
   ],
   "source": [
    "str(df.id[0])"
   ]
  },
  {
   "cell_type": "code",
   "execution_count": 12,
   "id": "2b7b01d3",
   "metadata": {},
   "outputs": [
    {
     "name": "stderr",
     "output_type": "stream",
     "text": [
      "<ipython-input-12-4c9805f4cae0>:1: DeprecationWarning: tostring() is deprecated. Use tobytes() instead.\n",
      "  df.id[0].tostring()\n"
     ]
    },
    {
     "data": {
      "text/plain": [
       "b'\\x8fv\\x00\\x00\\x00\\x00\\x00\\x00'"
      ]
     },
     "execution_count": 12,
     "metadata": {},
     "output_type": "execute_result"
    }
   ],
   "source": [
    "df.id[0].tostring()"
   ]
  },
  {
   "cell_type": "code",
   "execution_count": 14,
   "id": "1a51b03a",
   "metadata": {},
   "outputs": [
    {
     "ename": "SyntaxError",
     "evalue": "invalid syntax (<unknown>, line 1)",
     "output_type": "error",
     "traceback": [
      "Traceback \u001b[1;36m(most recent call last)\u001b[0m:\n",
      "  File \u001b[0;32m\"C:\\Users\\monke\\anaconda3\\lib\\site-packages\\IPython\\core\\interactiveshell.py\"\u001b[0m, line \u001b[0;32m3437\u001b[0m, in \u001b[0;35mrun_code\u001b[0m\n    exec(code_obj, self.user_global_ns, self.user_ns)\n",
      "  File \u001b[0;32m\"<ipython-input-14-713d88e966c6>\"\u001b[0m, line \u001b[0;32m2\u001b[0m, in \u001b[0;35m<module>\u001b[0m\n    Product_photos=ast.literal_eval(df.photos[i])\n",
      "  File \u001b[0;32m\"C:\\Users\\monke\\anaconda3\\lib\\ast.py\"\u001b[0m, line \u001b[0;32m59\u001b[0m, in \u001b[0;35mliteral_eval\u001b[0m\n    node_or_string = parse(node_or_string, mode='eval')\n",
      "\u001b[1;36m  File \u001b[1;32m\"C:\\Users\\monke\\anaconda3\\lib\\ast.py\"\u001b[1;36m, line \u001b[1;32m47\u001b[1;36m, in \u001b[1;35mparse\u001b[1;36m\u001b[0m\n\u001b[1;33m    return compile(source, filename, mode, flags,\u001b[0m\n",
      "\u001b[1;36m  File \u001b[1;32m\"<unknown>\"\u001b[1;36m, line \u001b[1;32m1\u001b[0m\n\u001b[1;33m    http://assets.myntassets.com/h_480,q_95,w_360/v1/images/style/properties/633af5a8334fb1d3913f919a173f7eb8_images.jpg\u001b[0m\n\u001b[1;37m        ^\u001b[0m\n\u001b[1;31mSyntaxError\u001b[0m\u001b[1;31m:\u001b[0m invalid syntax\n"
     ]
    }
   ],
   "source": [
    "for i in range(len(df)):\n",
    "    Product_photos=ast.literal_eval(df.photos[i])\n",
    "    Product_colors=ast.literal_eval(df.colors[i])\n",
    "    first_item=1\n",
    "    for j in range(len(Product_photos)):\n",
    "        response = requests.get(Product_photos[j])\n",
    "        if first_item==1:\n",
    "            file = open(str(df.id[i])+\" \"+Product_colors[j]+\" Main\"+\".png\", \"wb\")\n",
    "            file.write(response.content)\n",
    "            file.close()\n",
    "        else:\n",
    "            file = open(str(df.id[i])+\" \"+Product_colors[j]+\".png\", \"wb\")\n",
    "            file.write(response.content)\n",
    "            file.close()\n",
    "        first_item=0"
   ]
  },
  {
   "cell_type": "code",
   "execution_count": 15,
   "id": "d062e12d",
   "metadata": {},
   "outputs": [
    {
     "data": {
      "text/plain": [
       "177"
      ]
     },
     "execution_count": 15,
     "metadata": {},
     "output_type": "execute_result"
    }
   ],
   "source": [
    "i"
   ]
  },
  {
   "cell_type": "code",
   "execution_count": 16,
   "id": "978fe381",
   "metadata": {},
   "outputs": [
    {
     "ename": "SyntaxError",
     "evalue": "invalid syntax (<unknown>, line 1)",
     "output_type": "error",
     "traceback": [
      "Traceback \u001b[1;36m(most recent call last)\u001b[0m:\n",
      "  File \u001b[0;32m\"C:\\Users\\monke\\anaconda3\\lib\\site-packages\\IPython\\core\\interactiveshell.py\"\u001b[0m, line \u001b[0;32m3437\u001b[0m, in \u001b[0;35mrun_code\u001b[0m\n    exec(code_obj, self.user_global_ns, self.user_ns)\n",
      "  File \u001b[0;32m\"<ipython-input-16-7ebdb2f63e34>\"\u001b[0m, line \u001b[0;32m1\u001b[0m, in \u001b[0;35m<module>\u001b[0m\n    Product_photos=ast.literal_eval(df.photos[i])\n",
      "  File \u001b[0;32m\"C:\\Users\\monke\\anaconda3\\lib\\ast.py\"\u001b[0m, line \u001b[0;32m59\u001b[0m, in \u001b[0;35mliteral_eval\u001b[0m\n    node_or_string = parse(node_or_string, mode='eval')\n",
      "\u001b[1;36m  File \u001b[1;32m\"C:\\Users\\monke\\anaconda3\\lib\\ast.py\"\u001b[1;36m, line \u001b[1;32m47\u001b[1;36m, in \u001b[1;35mparse\u001b[1;36m\u001b[0m\n\u001b[1;33m    return compile(source, filename, mode, flags,\u001b[0m\n",
      "\u001b[1;36m  File \u001b[1;32m\"<unknown>\"\u001b[1;36m, line \u001b[1;32m1\u001b[0m\n\u001b[1;33m    http://assets.myntassets.com/h_480,q_95,w_360/v1/images/style/properties/633af5a8334fb1d3913f919a173f7eb8_images.jpg\u001b[0m\n\u001b[1;37m        ^\u001b[0m\n\u001b[1;31mSyntaxError\u001b[0m\u001b[1;31m:\u001b[0m invalid syntax\n"
     ]
    }
   ],
   "source": []
  },
  {
   "cell_type": "code",
   "execution_count": 17,
   "id": "4974abbe",
   "metadata": {},
   "outputs": [
    {
     "data": {
      "text/plain": [
       "'http://assets.myntassets.com/h_480,q_95,w_360/v1/images/style/properties/633af5a8334fb1d3913f919a173f7eb8_images.jpg'"
      ]
     },
     "execution_count": 17,
     "metadata": {},
     "output_type": "execute_result"
    }
   ],
   "source": [
    "df.photos[i]"
   ]
  },
  {
   "cell_type": "code",
   "execution_count": 24,
   "id": "526e9fec",
   "metadata": {},
   "outputs": [
    {
     "data": {
      "text/plain": [
       "['http://assets.myntassets.com/h_480,q_95,w_360/v1/images/style/properties/633af5a8334fb1d3913f919a173f7eb8_images.jpg']"
      ]
     },
     "execution_count": 24,
     "metadata": {},
     "output_type": "execute_result"
    }
   ],
   "source": [
    "ast.literal_eval(str([df.photos[177]]))"
   ]
  },
  {
   "cell_type": "code",
   "execution_count": 25,
   "id": "cc6e784d",
   "metadata": {},
   "outputs": [],
   "source": [
    "for i in range(177,len(df)):\n",
    "    Product_photos=ast.literal_eval(str([df.photos[i]]))\n",
    "    Product_colors=ast.literal_eval(str([df.colors[i]]))\n",
    "    first_item=1\n",
    "    for j in range(len(Product_photos)):\n",
    "        response = requests.get(Product_photos[j])\n",
    "        if first_item==1:\n",
    "            file = open(str(df.id[i])+\" \"+Product_colors[j]+\" Main\"+\".png\", \"wb\")\n",
    "            file.write(response.content)\n",
    "            file.close()\n",
    "        else:\n",
    "            file = open(str(df.id[i])+\" \"+Product_colors[j]+\".png\", \"wb\")\n",
    "            file.write(response.content)\n",
    "            file.close()\n",
    "        first_item=0"
   ]
  },
  {
   "cell_type": "code",
   "execution_count": null,
   "id": "dc6645f1",
   "metadata": {},
   "outputs": [],
   "source": []
  }
 ],
 "metadata": {
  "kernelspec": {
   "display_name": "Python 3",
   "language": "python",
   "name": "python3"
  },
  "language_info": {
   "codemirror_mode": {
    "name": "ipython",
    "version": 3
   },
   "file_extension": ".py",
   "mimetype": "text/x-python",
   "name": "python",
   "nbconvert_exporter": "python",
   "pygments_lexer": "ipython3",
   "version": "3.8.8"
  }
 },
 "nbformat": 4,
 "nbformat_minor": 5
}
